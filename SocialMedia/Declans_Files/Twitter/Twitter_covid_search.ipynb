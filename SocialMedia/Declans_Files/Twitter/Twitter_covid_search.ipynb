{
  "nbformat": 4,
  "nbformat_minor": 0,
  "metadata": {
    "colab": {
      "name": "Twitter-covid-search",
      "provenance": []
    },
    "kernelspec": {
      "name": "python3",
      "display_name": "Python 3"
    }
  },
  "cells": [
    {
      "cell_type": "markdown",
      "metadata": {
        "id": "KdnuQqbw7mz1"
      },
      "source": [
        "Individual's Tweets"
      ]
    },
    {
      "cell_type": "code",
      "metadata": {
        "colab": {
          "base_uri": "https://localhost:8080/",
          "height": 171
        },
        "id": "wSZ2F92S7nFB",
        "outputId": "30b73412-549e-413f-c1da-8f6a63f4e4c9"
      },
      "source": [
        "import pandas as pd\r\n",
        "declan = pd.read_csv(\"https://raw.githubusercontent.com/hglanz/DSFellow_COVID_SocialMedia/main/SocialMedia/Declans_Files/Twitter/decdec2323.csv\")\r\n",
        "declan.head()"
      ],
      "execution_count": 18,
      "outputs": [
        {
          "output_type": "execute_result",
          "data": {
            "text/html": [
              "<div>\n",
              "<style scoped>\n",
              "    .dataframe tbody tr th:only-of-type {\n",
              "        vertical-align: middle;\n",
              "    }\n",
              "\n",
              "    .dataframe tbody tr th {\n",
              "        vertical-align: top;\n",
              "    }\n",
              "\n",
              "    .dataframe thead th {\n",
              "        text-align: right;\n",
              "    }\n",
              "</style>\n",
              "<table border=\"1\" class=\"dataframe\">\n",
              "  <thead>\n",
              "    <tr style=\"text-align: right;\">\n",
              "      <th></th>\n",
              "      <th>Datetime</th>\n",
              "      <th>Tweet Id</th>\n",
              "      <th>Text</th>\n",
              "      <th>Username</th>\n",
              "    </tr>\n",
              "  </thead>\n",
              "  <tbody>\n",
              "    <tr>\n",
              "      <th>0</th>\n",
              "      <td>2021-01-20 17:49:34+00:00</td>\n",
              "      <td>1351950007650275328</td>\n",
              "      <td>First time using hashtags\\n#covid\\n#coronaviru...</td>\n",
              "      <td>decdec2323</td>\n",
              "    </tr>\n",
              "    <tr>\n",
              "      <th>1</th>\n",
              "      <td>2021-01-20 17:48:38+00:00</td>\n",
              "      <td>1351949773352230914</td>\n",
              "      <td>If you tweet in the woods and there's no-one t...</td>\n",
              "      <td>decdec2323</td>\n",
              "    </tr>\n",
              "    <tr>\n",
              "      <th>2</th>\n",
              "      <td>2021-01-20 17:47:30+00:00</td>\n",
              "      <td>1351949488328359938</td>\n",
              "      <td>Second Tweet, chirp chirp</td>\n",
              "      <td>decdec2323</td>\n",
              "    </tr>\n",
              "    <tr>\n",
              "      <th>3</th>\n",
              "      <td>2021-01-20 17:46:41+00:00</td>\n",
              "      <td>1351949284044754944</td>\n",
              "      <td>First Tweet. Going to be a test for the snscra...</td>\n",
              "      <td>decdec2323</td>\n",
              "    </tr>\n",
              "  </tbody>\n",
              "</table>\n",
              "</div>"
            ],
            "text/plain": [
              "                    Datetime  ...    Username\n",
              "0  2021-01-20 17:49:34+00:00  ...  decdec2323\n",
              "1  2021-01-20 17:48:38+00:00  ...  decdec2323\n",
              "2  2021-01-20 17:47:30+00:00  ...  decdec2323\n",
              "3  2021-01-20 17:46:41+00:00  ...  decdec2323\n",
              "\n",
              "[4 rows x 4 columns]"
            ]
          },
          "metadata": {
            "tags": []
          },
          "execution_count": 18
        }
      ]
    },
    {
      "cell_type": "code",
      "metadata": {
        "colab": {
          "base_uri": "https://localhost:8080/",
          "height": 35
        },
        "id": "2Lt8yQrT8Ccp",
        "outputId": "d9e70982-88f4-4b9d-dea0-e9dcd0f6596a"
      },
      "source": [
        "declan.iloc[0].Text"
      ],
      "execution_count": 23,
      "outputs": [
        {
          "output_type": "execute_result",
          "data": {
            "application/vnd.google.colaboratory.intrinsic+json": {
              "type": "string"
            },
            "text/plain": [
              "'First time using hashtags\\n#covid\\n#coronavirus\\n#covid_19\\n#covid19\\n#octothrope'"
            ]
          },
          "metadata": {
            "tags": []
          },
          "execution_count": 23
        }
      ]
    },
    {
      "cell_type": "code",
      "metadata": {
        "colab": {
          "base_uri": "https://localhost:8080/"
        },
        "id": "6kkdbxLoHy2s",
        "outputId": "85be27ee-8d2f-4b6c-e43b-246062193700"
      },
      "source": [
        "declan[\"Text\"].str.contains(\"covid19\")"
      ],
      "execution_count": 21,
      "outputs": [
        {
          "output_type": "execute_result",
          "data": {
            "text/plain": [
              "0     True\n",
              "1    False\n",
              "2    False\n",
              "3    False\n",
              "Name: Text, dtype: bool"
            ]
          },
          "metadata": {
            "tags": []
          },
          "execution_count": 21
        }
      ]
    },
    {
      "cell_type": "markdown",
      "metadata": {
        "id": "EH0ExH1o8hKi"
      },
      "source": [
        ""
      ]
    },
    {
      "cell_type": "code",
      "metadata": {
        "colab": {
          "base_uri": "https://localhost:8080/",
          "height": 202
        },
        "id": "D4ETvTM-IJ9h",
        "outputId": "4909d821-803b-4706-fd6a-81fc501fe2b9"
      },
      "source": [
        "import pandas as pd\r\n",
        "elephants = pd.read_csv(\"https://raw.githubusercontent.com/hglanz/DSFellow_COVID_SocialMedia/main/SocialMedia/Declans_Files/Twitter/elephants.csv\")\r\n",
        "elephants.head()"
      ],
      "execution_count": 24,
      "outputs": [
        {
          "output_type": "execute_result",
          "data": {
            "text/html": [
              "<div>\n",
              "<style scoped>\n",
              "    .dataframe tbody tr th:only-of-type {\n",
              "        vertical-align: middle;\n",
              "    }\n",
              "\n",
              "    .dataframe tbody tr th {\n",
              "        vertical-align: top;\n",
              "    }\n",
              "\n",
              "    .dataframe thead th {\n",
              "        text-align: right;\n",
              "    }\n",
              "</style>\n",
              "<table border=\"1\" class=\"dataframe\">\n",
              "  <thead>\n",
              "    <tr style=\"text-align: right;\">\n",
              "      <th></th>\n",
              "      <th>Datetime</th>\n",
              "      <th>Tweet Id</th>\n",
              "      <th>Text</th>\n",
              "      <th>Username</th>\n",
              "    </tr>\n",
              "  </thead>\n",
              "  <tbody>\n",
              "    <tr>\n",
              "      <th>0</th>\n",
              "      <td>2020-07-30 23:57:02+00:00</td>\n",
              "      <td>1288986997143601152</td>\n",
              "      <td>@SiBuduh @langoinstitute do you know the Ko wo...</td>\n",
              "      <td>TylerPaulUtt1</td>\n",
              "    </tr>\n",
              "    <tr>\n",
              "      <th>1</th>\n",
              "      <td>2020-07-30 23:44:04+00:00</td>\n",
              "      <td>1288983731122966534</td>\n",
              "      <td>@RockstarGames Any idea if the elephant rifle ...</td>\n",
              "      <td>EndlessSynthwav</td>\n",
              "    </tr>\n",
              "    <tr>\n",
              "      <th>2</th>\n",
              "      <td>2020-07-30 22:40:40+00:00</td>\n",
              "      <td>1288967774795116550</td>\n",
              "      <td>@realDonaldTrump Trump just keeps ignoring the...</td>\n",
              "      <td>aanalyst50</td>\n",
              "    </tr>\n",
              "    <tr>\n",
              "      <th>3</th>\n",
              "      <td>2020-07-30 22:37:18+00:00</td>\n",
              "      <td>1288966929236066309</td>\n",
              "      <td>@cslogan88 Famous 19th century song from Engla...</td>\n",
              "      <td>RozeyBozzy</td>\n",
              "    </tr>\n",
              "    <tr>\n",
              "      <th>4</th>\n",
              "      <td>2020-07-30 22:32:44+00:00</td>\n",
              "      <td>1288965780030144512</td>\n",
              "      <td>@realDonaldTrump #RepublicanTrumpVirus.\\nLets ...</td>\n",
              "      <td>alfred_hanan</td>\n",
              "    </tr>\n",
              "  </tbody>\n",
              "</table>\n",
              "</div>"
            ],
            "text/plain": [
              "                    Datetime  ...         Username\n",
              "0  2020-07-30 23:57:02+00:00  ...    TylerPaulUtt1\n",
              "1  2020-07-30 23:44:04+00:00  ...  EndlessSynthwav\n",
              "2  2020-07-30 22:40:40+00:00  ...       aanalyst50\n",
              "3  2020-07-30 22:37:18+00:00  ...       RozeyBozzy\n",
              "4  2020-07-30 22:32:44+00:00  ...     alfred_hanan\n",
              "\n",
              "[5 rows x 4 columns]"
            ]
          },
          "metadata": {
            "tags": []
          },
          "execution_count": 24
        }
      ]
    },
    {
      "cell_type": "markdown",
      "metadata": {
        "id": "RGXlRk18I7r0"
      },
      "source": [
        "Test with keyword 'elephant'"
      ]
    },
    {
      "cell_type": "code",
      "metadata": {
        "colab": {
          "base_uri": "https://localhost:8080/"
        },
        "id": "tE0DcNIeI--b",
        "outputId": "f12b8c0c-14b9-4544-88cc-88028a0d88d5"
      },
      "source": [
        "elephants.Text.str.lower().str.contains(\"its\")"
      ],
      "execution_count": 34,
      "outputs": [
        {
          "output_type": "execute_result",
          "data": {
            "text/plain": [
              "0      True\n",
              "1      True\n",
              "2      True\n",
              "3      True\n",
              "4      True\n",
              "       ... \n",
              "496    True\n",
              "497    True\n",
              "498    True\n",
              "499    True\n",
              "500    True\n",
              "Name: Text, Length: 501, dtype: bool"
            ]
          },
          "metadata": {
            "tags": []
          },
          "execution_count": 34
        }
      ]
    },
    {
      "cell_type": "markdown",
      "metadata": {
        "id": "qW6gX3ZfLukz"
      },
      "source": [
        "Next is January Covid Data"
      ]
    },
    {
      "cell_type": "code",
      "metadata": {
        "colab": {
          "base_uri": "https://localhost:8080/",
          "height": 110
        },
        "id": "o9YzJhJRLwh-",
        "outputId": "a9a6c0f6-fa3a-4b8a-fc1d-08fae5e76969"
      },
      "source": [
        "import pandas as pd\r\n",
        "january_covid = pd.read_csv(\"https://raw.githubusercontent.com/hglanz/DSFellow_COVID_SocialMedia/main/SocialMedia/Declans_Files/Twitter/january_covid.csv\")\r\n",
        "january_covid.head()"
      ],
      "execution_count": 37,
      "outputs": [
        {
          "output_type": "execute_result",
          "data": {
            "text/html": [
              "<div>\n",
              "<style scoped>\n",
              "    .dataframe tbody tr th:only-of-type {\n",
              "        vertical-align: middle;\n",
              "    }\n",
              "\n",
              "    .dataframe tbody tr th {\n",
              "        vertical-align: top;\n",
              "    }\n",
              "\n",
              "    .dataframe thead th {\n",
              "        text-align: right;\n",
              "    }\n",
              "</style>\n",
              "<table border=\"1\" class=\"dataframe\">\n",
              "  <thead>\n",
              "    <tr style=\"text-align: right;\">\n",
              "      <th></th>\n",
              "      <th>Datetime</th>\n",
              "      <th>Tweet Id</th>\n",
              "      <th>Text</th>\n",
              "      <th>Username</th>\n",
              "    </tr>\n",
              "  </thead>\n",
              "  <tbody>\n",
              "    <tr>\n",
              "      <th>0</th>\n",
              "      <td>2020-01-29 03:25:30+00:00</td>\n",
              "      <td>1222360090197364737</td>\n",
              "      <td>Action supreme Court &amp;amp; Ramnath covid presi...</td>\n",
              "      <td>dabaniwal1973</td>\n",
              "    </tr>\n",
              "    <tr>\n",
              "      <th>1</th>\n",
              "      <td>2020-01-12 14:59:56+00:00</td>\n",
              "      <td>1216374257028161536</td>\n",
              "      <td>@chamington1 1. Raven Guy \\n2. Cham\\n3. 4 / 10...</td>\n",
              "      <td>Capital_EKS</td>\n",
              "    </tr>\n",
              "  </tbody>\n",
              "</table>\n",
              "</div>"
            ],
            "text/plain": [
              "                    Datetime  ...       Username\n",
              "0  2020-01-29 03:25:30+00:00  ...  dabaniwal1973\n",
              "1  2020-01-12 14:59:56+00:00  ...    Capital_EKS\n",
              "\n",
              "[2 rows x 4 columns]"
            ]
          },
          "metadata": {
            "tags": []
          },
          "execution_count": 37
        }
      ]
    }
  ]
}